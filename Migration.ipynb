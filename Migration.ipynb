{
 "cells": [
  {
   "cell_type": "markdown",
   "id": "0ed31a4c-455a-441d-8e3a-60c130d51688",
   "metadata": {},
   "source": [
    "# Migration de la base de données relationnelle ClassicModel vers MongoDB suivant l'architecture cible définie"
   ]
  },
  {
   "cell_type": "code",
   "execution_count": 11,
   "id": "b8f93ad2-f531-497e-b5cf-51c941765384",
   "metadata": {},
   "outputs": [
    {
     "name": "stdout",
     "output_type": "stream",
     "text": [
      "Requirement already satisfied: pymongo in c:\\users\\rhofr\\appdata\\local\\programs\\python\\python312\\lib\\site-packages (4.10.1)Note: you may need to restart the kernel to use updated packages.\n",
      "\n",
      "Requirement already satisfied: dnspython<3.0.0,>=1.16.0 in c:\\users\\rhofr\\appdata\\local\\programs\\python\\python312\\lib\\site-packages (from pymongo) (2.7.0)\n"
     ]
    },
    {
     "name": "stderr",
     "output_type": "stream",
     "text": [
      "\n",
      "[notice] A new release of pip is available: 23.3.2 -> 24.3.1\n",
      "[notice] To update, run: python.exe -m pip install --upgrade pip\n"
     ]
    }
   ],
   "source": [
    "pip install pymongo"
   ]
  },
  {
   "cell_type": "code",
   "execution_count": 19,
   "id": "45ee7dad-a279-49f3-8696-e05e2883aeda",
   "metadata": {},
   "outputs": [],
   "source": [
    "import sqlite3\n",
    "import pandas as pd\n",
    "import pymongo\n",
    "\n",
    "URI = \"localhost:27017\"\n",
    "client = pymongo.MongoClient(URI)\n",
    "db = client.sae\n",
    "\n",
    "# Création de la connexion\n",
    "conn = sqlite3.connect(\"C:/Users/rhofr/OneDrive/Bureau/but3/sae nosql/seance 3/ClassicModel.sqlite\")"
   ]
  },
  {
   "cell_type": "markdown",
   "id": "8e6b2a81-76f8-44e8-b542-d6ae8980a17c",
   "metadata": {},
   "source": [
    "## Récuperation des données de toutes les tables de la base de données"
   ]
  },
  {
   "cell_type": "code",
   "execution_count": 20,
   "id": "c2983959-f52e-476e-907c-4b2a58b61d60",
   "metadata": {},
   "outputs": [],
   "source": [
    "orders = pd.read_sql_query(\n",
    "    \"\"\"\n",
    "    SELECT *\n",
    "    FROM Orders;\n",
    "    \"\"\", conn\n",
    ")\n",
    "\n",
    "orderdetails = pd.read_sql_query(\n",
    "    \"\"\"\n",
    "    SELECT *\n",
    "    FROM OrderDetails;\n",
    "    \"\"\", conn\n",
    ")\n",
    "\n",
    "customers = pd.read_sql_query(\n",
    "    \"\"\"\n",
    "    SELECT *\n",
    "    FROM Customers;\n",
    "    \"\"\", conn\n",
    ")\n",
    "\n",
    "payments = pd.read_sql_query(\n",
    "    \"\"\"\n",
    "    SELECT *\n",
    "    FROM Payments;\n",
    "    \"\"\", conn\n",
    ")\n",
    "\n",
    "products = pd.read_sql_query(\n",
    "    \"\"\"\n",
    "    SELECT *\n",
    "    FROM Products;\n",
    "    \"\"\", conn\n",
    ")\n",
    "\n",
    "employees = pd.read_sql_query(\n",
    "    \"\"\"\n",
    "    SELECT *\n",
    "    FROM Employees;\n",
    "    \"\"\", conn\n",
    ")\n",
    "\n",
    "offices = pd.read_sql_query(\n",
    "    \"\"\"\n",
    "    SELECT *\n",
    "    FROM Offices;\n",
    "    \"\"\", conn\n",
    ")"
   ]
  },
  {
   "cell_type": "markdown",
   "id": "987f4d0d-8872-4e8e-9a6d-48e0b6ccdcb4",
   "metadata": {},
   "source": [
    "## 1. Création de la collection \"Orders\" contenant les informations des commandes ainsi que les details pour chaque commande (imbrication de la table  OrderDetails\" dans la table \"Orders\")"
   ]
  },
  {
   "cell_type": "code",
   "execution_count": 21,
   "id": "4b7bf3a0-f3bf-4f06-ab1f-d94782d9971e",
   "metadata": {},
   "outputs": [
    {
     "data": {
      "text/plain": [
       "InsertManyResult([ObjectId('67684baf14462fca7df5e83f'), ObjectId('67684baf14462fca7df5e840'), ObjectId('67684baf14462fca7df5e841'), ObjectId('67684baf14462fca7df5e842'), ObjectId('67684baf14462fca7df5e843'), ObjectId('67684baf14462fca7df5e844'), ObjectId('67684baf14462fca7df5e845'), ObjectId('67684baf14462fca7df5e846'), ObjectId('67684baf14462fca7df5e847'), ObjectId('67684baf14462fca7df5e848'), ObjectId('67684baf14462fca7df5e849'), ObjectId('67684baf14462fca7df5e84a'), ObjectId('67684baf14462fca7df5e84b'), ObjectId('67684baf14462fca7df5e84c'), ObjectId('67684baf14462fca7df5e84d'), ObjectId('67684baf14462fca7df5e84e'), ObjectId('67684baf14462fca7df5e84f'), ObjectId('67684baf14462fca7df5e850'), ObjectId('67684baf14462fca7df5e851'), ObjectId('67684baf14462fca7df5e852'), ObjectId('67684baf14462fca7df5e853'), ObjectId('67684baf14462fca7df5e854'), ObjectId('67684baf14462fca7df5e855'), ObjectId('67684baf14462fca7df5e856'), ObjectId('67684baf14462fca7df5e857'), ObjectId('67684baf14462fca7df5e858'), ObjectId('67684baf14462fca7df5e859'), ObjectId('67684baf14462fca7df5e85a'), ObjectId('67684baf14462fca7df5e85b'), ObjectId('67684baf14462fca7df5e85c'), ObjectId('67684baf14462fca7df5e85d'), ObjectId('67684baf14462fca7df5e85e'), ObjectId('67684baf14462fca7df5e85f'), ObjectId('67684baf14462fca7df5e860'), ObjectId('67684baf14462fca7df5e861'), ObjectId('67684baf14462fca7df5e862'), ObjectId('67684baf14462fca7df5e863'), ObjectId('67684baf14462fca7df5e864'), ObjectId('67684baf14462fca7df5e865'), ObjectId('67684baf14462fca7df5e866'), ObjectId('67684baf14462fca7df5e867'), ObjectId('67684baf14462fca7df5e868'), ObjectId('67684baf14462fca7df5e869'), ObjectId('67684baf14462fca7df5e86a'), ObjectId('67684baf14462fca7df5e86b'), ObjectId('67684baf14462fca7df5e86c'), ObjectId('67684baf14462fca7df5e86d'), ObjectId('67684baf14462fca7df5e86e'), ObjectId('67684baf14462fca7df5e86f'), ObjectId('67684baf14462fca7df5e870'), ObjectId('67684baf14462fca7df5e871'), ObjectId('67684baf14462fca7df5e872'), ObjectId('67684baf14462fca7df5e873'), ObjectId('67684baf14462fca7df5e874'), ObjectId('67684baf14462fca7df5e875'), ObjectId('67684baf14462fca7df5e876'), ObjectId('67684baf14462fca7df5e877'), ObjectId('67684baf14462fca7df5e878'), ObjectId('67684baf14462fca7df5e879'), ObjectId('67684baf14462fca7df5e87a'), ObjectId('67684baf14462fca7df5e87b'), ObjectId('67684baf14462fca7df5e87c'), ObjectId('67684baf14462fca7df5e87d'), ObjectId('67684baf14462fca7df5e87e'), ObjectId('67684baf14462fca7df5e87f'), ObjectId('67684baf14462fca7df5e880'), ObjectId('67684baf14462fca7df5e881'), ObjectId('67684baf14462fca7df5e882'), ObjectId('67684baf14462fca7df5e883'), ObjectId('67684baf14462fca7df5e884'), ObjectId('67684baf14462fca7df5e885'), ObjectId('67684baf14462fca7df5e886'), ObjectId('67684baf14462fca7df5e887'), ObjectId('67684baf14462fca7df5e888'), ObjectId('67684baf14462fca7df5e889'), ObjectId('67684baf14462fca7df5e88a'), ObjectId('67684baf14462fca7df5e88b'), ObjectId('67684baf14462fca7df5e88c'), ObjectId('67684baf14462fca7df5e88d'), ObjectId('67684baf14462fca7df5e88e'), ObjectId('67684baf14462fca7df5e88f'), ObjectId('67684baf14462fca7df5e890'), ObjectId('67684baf14462fca7df5e891'), ObjectId('67684baf14462fca7df5e892'), ObjectId('67684baf14462fca7df5e893'), ObjectId('67684baf14462fca7df5e894'), ObjectId('67684baf14462fca7df5e895'), ObjectId('67684baf14462fca7df5e896'), ObjectId('67684baf14462fca7df5e897'), ObjectId('67684baf14462fca7df5e898'), ObjectId('67684baf14462fca7df5e899'), ObjectId('67684baf14462fca7df5e89a'), ObjectId('67684baf14462fca7df5e89b'), ObjectId('67684baf14462fca7df5e89c'), ObjectId('67684baf14462fca7df5e89d'), ObjectId('67684baf14462fca7df5e89e'), ObjectId('67684baf14462fca7df5e89f'), ObjectId('67684baf14462fca7df5e8a0'), ObjectId('67684baf14462fca7df5e8a1'), ObjectId('67684baf14462fca7df5e8a2'), ObjectId('67684baf14462fca7df5e8a3'), ObjectId('67684baf14462fca7df5e8a4'), ObjectId('67684baf14462fca7df5e8a5'), ObjectId('67684baf14462fca7df5e8a6'), ObjectId('67684baf14462fca7df5e8a7'), ObjectId('67684baf14462fca7df5e8a8'), ObjectId('67684baf14462fca7df5e8a9'), ObjectId('67684baf14462fca7df5e8aa'), ObjectId('67684baf14462fca7df5e8ab'), ObjectId('67684baf14462fca7df5e8ac'), ObjectId('67684baf14462fca7df5e8ad'), ObjectId('67684baf14462fca7df5e8ae'), ObjectId('67684baf14462fca7df5e8af'), ObjectId('67684baf14462fca7df5e8b0'), ObjectId('67684baf14462fca7df5e8b1'), ObjectId('67684baf14462fca7df5e8b2'), ObjectId('67684baf14462fca7df5e8b3'), ObjectId('67684baf14462fca7df5e8b4'), ObjectId('67684baf14462fca7df5e8b5'), ObjectId('67684baf14462fca7df5e8b6'), ObjectId('67684baf14462fca7df5e8b7'), ObjectId('67684baf14462fca7df5e8b8'), ObjectId('67684baf14462fca7df5e8b9'), ObjectId('67684baf14462fca7df5e8ba'), ObjectId('67684baf14462fca7df5e8bb'), ObjectId('67684baf14462fca7df5e8bc'), ObjectId('67684baf14462fca7df5e8bd'), ObjectId('67684baf14462fca7df5e8be'), ObjectId('67684baf14462fca7df5e8bf'), ObjectId('67684baf14462fca7df5e8c0'), ObjectId('67684baf14462fca7df5e8c1'), ObjectId('67684baf14462fca7df5e8c2'), ObjectId('67684baf14462fca7df5e8c3'), ObjectId('67684baf14462fca7df5e8c4'), ObjectId('67684baf14462fca7df5e8c5'), ObjectId('67684baf14462fca7df5e8c6'), ObjectId('67684baf14462fca7df5e8c7'), ObjectId('67684baf14462fca7df5e8c8'), ObjectId('67684baf14462fca7df5e8c9'), ObjectId('67684baf14462fca7df5e8ca'), ObjectId('67684baf14462fca7df5e8cb'), ObjectId('67684baf14462fca7df5e8cc'), ObjectId('67684baf14462fca7df5e8cd'), ObjectId('67684baf14462fca7df5e8ce'), ObjectId('67684baf14462fca7df5e8cf'), ObjectId('67684baf14462fca7df5e8d0'), ObjectId('67684baf14462fca7df5e8d1'), ObjectId('67684baf14462fca7df5e8d2'), ObjectId('67684baf14462fca7df5e8d3'), ObjectId('67684baf14462fca7df5e8d4'), ObjectId('67684baf14462fca7df5e8d5'), ObjectId('67684baf14462fca7df5e8d6'), ObjectId('67684baf14462fca7df5e8d7'), ObjectId('67684baf14462fca7df5e8d8'), ObjectId('67684baf14462fca7df5e8d9'), ObjectId('67684baf14462fca7df5e8da'), ObjectId('67684baf14462fca7df5e8db'), ObjectId('67684baf14462fca7df5e8dc'), ObjectId('67684baf14462fca7df5e8dd'), ObjectId('67684baf14462fca7df5e8de'), ObjectId('67684baf14462fca7df5e8df'), ObjectId('67684baf14462fca7df5e8e0'), ObjectId('67684baf14462fca7df5e8e1'), ObjectId('67684baf14462fca7df5e8e2'), ObjectId('67684baf14462fca7df5e8e3'), ObjectId('67684baf14462fca7df5e8e4'), ObjectId('67684baf14462fca7df5e8e5'), ObjectId('67684baf14462fca7df5e8e6'), ObjectId('67684baf14462fca7df5e8e7'), ObjectId('67684baf14462fca7df5e8e8'), ObjectId('67684baf14462fca7df5e8e9'), ObjectId('67684baf14462fca7df5e8ea'), ObjectId('67684baf14462fca7df5e8eb'), ObjectId('67684baf14462fca7df5e8ec'), ObjectId('67684baf14462fca7df5e8ed'), ObjectId('67684baf14462fca7df5e8ee'), ObjectId('67684baf14462fca7df5e8ef'), ObjectId('67684baf14462fca7df5e8f0'), ObjectId('67684baf14462fca7df5e8f1'), ObjectId('67684baf14462fca7df5e8f2'), ObjectId('67684baf14462fca7df5e8f3'), ObjectId('67684baf14462fca7df5e8f4'), ObjectId('67684baf14462fca7df5e8f5'), ObjectId('67684baf14462fca7df5e8f6'), ObjectId('67684baf14462fca7df5e8f7'), ObjectId('67684baf14462fca7df5e8f8'), ObjectId('67684baf14462fca7df5e8f9'), ObjectId('67684baf14462fca7df5e8fa'), ObjectId('67684baf14462fca7df5e8fb'), ObjectId('67684baf14462fca7df5e8fc'), ObjectId('67684baf14462fca7df5e8fd'), ObjectId('67684baf14462fca7df5e8fe'), ObjectId('67684baf14462fca7df5e8ff'), ObjectId('67684baf14462fca7df5e900'), ObjectId('67684baf14462fca7df5e901'), ObjectId('67684baf14462fca7df5e902'), ObjectId('67684baf14462fca7df5e903'), ObjectId('67684baf14462fca7df5e904'), ObjectId('67684baf14462fca7df5e905'), ObjectId('67684baf14462fca7df5e906'), ObjectId('67684baf14462fca7df5e907'), ObjectId('67684baf14462fca7df5e908'), ObjectId('67684baf14462fca7df5e909'), ObjectId('67684baf14462fca7df5e90a'), ObjectId('67684baf14462fca7df5e90b'), ObjectId('67684baf14462fca7df5e90c'), ObjectId('67684baf14462fca7df5e90d'), ObjectId('67684baf14462fca7df5e90e'), ObjectId('67684baf14462fca7df5e90f'), ObjectId('67684baf14462fca7df5e910'), ObjectId('67684baf14462fca7df5e911'), ObjectId('67684baf14462fca7df5e912'), ObjectId('67684baf14462fca7df5e913'), ObjectId('67684baf14462fca7df5e914'), ObjectId('67684baf14462fca7df5e915'), ObjectId('67684baf14462fca7df5e916'), ObjectId('67684baf14462fca7df5e917'), ObjectId('67684baf14462fca7df5e918'), ObjectId('67684baf14462fca7df5e919'), ObjectId('67684baf14462fca7df5e91a'), ObjectId('67684baf14462fca7df5e91b'), ObjectId('67684baf14462fca7df5e91c'), ObjectId('67684baf14462fca7df5e91d'), ObjectId('67684baf14462fca7df5e91e'), ObjectId('67684baf14462fca7df5e91f'), ObjectId('67684baf14462fca7df5e920'), ObjectId('67684baf14462fca7df5e921'), ObjectId('67684baf14462fca7df5e922'), ObjectId('67684baf14462fca7df5e923'), ObjectId('67684baf14462fca7df5e924'), ObjectId('67684baf14462fca7df5e925'), ObjectId('67684baf14462fca7df5e926'), ObjectId('67684baf14462fca7df5e927'), ObjectId('67684baf14462fca7df5e928'), ObjectId('67684baf14462fca7df5e929'), ObjectId('67684baf14462fca7df5e92a'), ObjectId('67684baf14462fca7df5e92b'), ObjectId('67684baf14462fca7df5e92c'), ObjectId('67684baf14462fca7df5e92d'), ObjectId('67684baf14462fca7df5e92e'), ObjectId('67684baf14462fca7df5e92f'), ObjectId('67684baf14462fca7df5e930'), ObjectId('67684baf14462fca7df5e931'), ObjectId('67684baf14462fca7df5e932'), ObjectId('67684baf14462fca7df5e933'), ObjectId('67684baf14462fca7df5e934'), ObjectId('67684baf14462fca7df5e935'), ObjectId('67684baf14462fca7df5e936'), ObjectId('67684baf14462fca7df5e937'), ObjectId('67684baf14462fca7df5e938'), ObjectId('67684baf14462fca7df5e939'), ObjectId('67684baf14462fca7df5e93a'), ObjectId('67684baf14462fca7df5e93b'), ObjectId('67684baf14462fca7df5e93c'), ObjectId('67684baf14462fca7df5e93d'), ObjectId('67684baf14462fca7df5e93e'), ObjectId('67684baf14462fca7df5e93f'), ObjectId('67684baf14462fca7df5e940'), ObjectId('67684baf14462fca7df5e941'), ObjectId('67684baf14462fca7df5e942'), ObjectId('67684baf14462fca7df5e943'), ObjectId('67684baf14462fca7df5e944'), ObjectId('67684baf14462fca7df5e945'), ObjectId('67684baf14462fca7df5e946'), ObjectId('67684baf14462fca7df5e947'), ObjectId('67684baf14462fca7df5e948'), ObjectId('67684baf14462fca7df5e949'), ObjectId('67684baf14462fca7df5e94a'), ObjectId('67684baf14462fca7df5e94b'), ObjectId('67684baf14462fca7df5e94c'), ObjectId('67684baf14462fca7df5e94d'), ObjectId('67684baf14462fca7df5e94e'), ObjectId('67684baf14462fca7df5e94f'), ObjectId('67684baf14462fca7df5e950'), ObjectId('67684baf14462fca7df5e951'), ObjectId('67684baf14462fca7df5e952'), ObjectId('67684baf14462fca7df5e953'), ObjectId('67684baf14462fca7df5e954'), ObjectId('67684baf14462fca7df5e955'), ObjectId('67684baf14462fca7df5e956'), ObjectId('67684baf14462fca7df5e957'), ObjectId('67684baf14462fca7df5e958'), ObjectId('67684baf14462fca7df5e959'), ObjectId('67684baf14462fca7df5e95a'), ObjectId('67684baf14462fca7df5e95b'), ObjectId('67684baf14462fca7df5e95c'), ObjectId('67684baf14462fca7df5e95d'), ObjectId('67684baf14462fca7df5e95e'), ObjectId('67684baf14462fca7df5e95f'), ObjectId('67684baf14462fca7df5e960'), ObjectId('67684baf14462fca7df5e961'), ObjectId('67684baf14462fca7df5e962'), ObjectId('67684baf14462fca7df5e963'), ObjectId('67684baf14462fca7df5e964'), ObjectId('67684baf14462fca7df5e965'), ObjectId('67684baf14462fca7df5e966'), ObjectId('67684baf14462fca7df5e967'), ObjectId('67684baf14462fca7df5e968'), ObjectId('67684baf14462fca7df5e969'), ObjectId('67684baf14462fca7df5e96a'), ObjectId('67684baf14462fca7df5e96b'), ObjectId('67684baf14462fca7df5e96c'), ObjectId('67684baf14462fca7df5e96d'), ObjectId('67684baf14462fca7df5e96e'), ObjectId('67684baf14462fca7df5e96f'), ObjectId('67684baf14462fca7df5e970'), ObjectId('67684baf14462fca7df5e971'), ObjectId('67684baf14462fca7df5e972'), ObjectId('67684baf14462fca7df5e973'), ObjectId('67684baf14462fca7df5e974'), ObjectId('67684baf14462fca7df5e975'), ObjectId('67684baf14462fca7df5e976'), ObjectId('67684baf14462fca7df5e977'), ObjectId('67684baf14462fca7df5e978'), ObjectId('67684baf14462fca7df5e979'), ObjectId('67684baf14462fca7df5e97a'), ObjectId('67684baf14462fca7df5e97b'), ObjectId('67684baf14462fca7df5e97c'), ObjectId('67684baf14462fca7df5e97d'), ObjectId('67684baf14462fca7df5e97e'), ObjectId('67684baf14462fca7df5e97f'), ObjectId('67684baf14462fca7df5e980'), ObjectId('67684baf14462fca7df5e981'), ObjectId('67684baf14462fca7df5e982'), ObjectId('67684baf14462fca7df5e983'), ObjectId('67684baf14462fca7df5e984')], acknowledged=True)"
      ]
     },
     "execution_count": 21,
     "metadata": {},
     "output_type": "execute_result"
    }
   ],
   "source": [
    "order_details = orderdetails.groupby('orderNumber').apply(\n",
    "    lambda x: x.drop(columns='orderNumber').to_dict(orient='records')\n",
    ")\n",
    "\n",
    "Orders = orders.assign(\n",
    "    OrderDetails=orders.orderNumber.map(order_details)\n",
    ")\n",
    "\n",
    "db.Orders.insert_many(Orders.to_dict(orient=\"records\"))"
   ]
  },
  {
   "cell_type": "markdown",
   "id": "aeb7cabf-037f-448e-87e4-2766d7f3f7ee",
   "metadata": {},
   "source": [
    "## 2. Création de la collection indépendante \"Products\" contenant les informations de tous les produits (sans imbrication)"
   ]
  },
  {
   "cell_type": "code",
   "execution_count": 22,
   "id": "5b5cf2a3-2e77-4d34-a6d5-105d5cd1da89",
   "metadata": {},
   "outputs": [
    {
     "data": {
      "text/plain": [
       "InsertManyResult([ObjectId('67684bb314462fca7df5e985'), ObjectId('67684bb314462fca7df5e986'), ObjectId('67684bb314462fca7df5e987'), ObjectId('67684bb314462fca7df5e988'), ObjectId('67684bb314462fca7df5e989'), ObjectId('67684bb314462fca7df5e98a'), ObjectId('67684bb314462fca7df5e98b'), ObjectId('67684bb314462fca7df5e98c'), ObjectId('67684bb314462fca7df5e98d'), ObjectId('67684bb314462fca7df5e98e'), ObjectId('67684bb314462fca7df5e98f'), ObjectId('67684bb314462fca7df5e990'), ObjectId('67684bb314462fca7df5e991'), ObjectId('67684bb314462fca7df5e992'), ObjectId('67684bb314462fca7df5e993'), ObjectId('67684bb314462fca7df5e994'), ObjectId('67684bb314462fca7df5e995'), ObjectId('67684bb314462fca7df5e996'), ObjectId('67684bb314462fca7df5e997'), ObjectId('67684bb314462fca7df5e998'), ObjectId('67684bb314462fca7df5e999'), ObjectId('67684bb314462fca7df5e99a'), ObjectId('67684bb314462fca7df5e99b'), ObjectId('67684bb314462fca7df5e99c'), ObjectId('67684bb314462fca7df5e99d'), ObjectId('67684bb314462fca7df5e99e'), ObjectId('67684bb314462fca7df5e99f'), ObjectId('67684bb314462fca7df5e9a0'), ObjectId('67684bb314462fca7df5e9a1'), ObjectId('67684bb314462fca7df5e9a2'), ObjectId('67684bb314462fca7df5e9a3'), ObjectId('67684bb314462fca7df5e9a4'), ObjectId('67684bb314462fca7df5e9a5'), ObjectId('67684bb314462fca7df5e9a6'), ObjectId('67684bb314462fca7df5e9a7'), ObjectId('67684bb314462fca7df5e9a8'), ObjectId('67684bb314462fca7df5e9a9'), ObjectId('67684bb314462fca7df5e9aa'), ObjectId('67684bb314462fca7df5e9ab'), ObjectId('67684bb314462fca7df5e9ac'), ObjectId('67684bb314462fca7df5e9ad'), ObjectId('67684bb314462fca7df5e9ae'), ObjectId('67684bb314462fca7df5e9af'), ObjectId('67684bb314462fca7df5e9b0'), ObjectId('67684bb314462fca7df5e9b1'), ObjectId('67684bb314462fca7df5e9b2'), ObjectId('67684bb314462fca7df5e9b3'), ObjectId('67684bb314462fca7df5e9b4'), ObjectId('67684bb314462fca7df5e9b5'), ObjectId('67684bb314462fca7df5e9b6'), ObjectId('67684bb314462fca7df5e9b7'), ObjectId('67684bb314462fca7df5e9b8'), ObjectId('67684bb314462fca7df5e9b9'), ObjectId('67684bb314462fca7df5e9ba'), ObjectId('67684bb314462fca7df5e9bb'), ObjectId('67684bb314462fca7df5e9bc'), ObjectId('67684bb314462fca7df5e9bd'), ObjectId('67684bb314462fca7df5e9be'), ObjectId('67684bb314462fca7df5e9bf'), ObjectId('67684bb314462fca7df5e9c0'), ObjectId('67684bb314462fca7df5e9c1'), ObjectId('67684bb314462fca7df5e9c2'), ObjectId('67684bb314462fca7df5e9c3'), ObjectId('67684bb314462fca7df5e9c4'), ObjectId('67684bb314462fca7df5e9c5'), ObjectId('67684bb314462fca7df5e9c6'), ObjectId('67684bb314462fca7df5e9c7'), ObjectId('67684bb314462fca7df5e9c8'), ObjectId('67684bb314462fca7df5e9c9'), ObjectId('67684bb314462fca7df5e9ca'), ObjectId('67684bb314462fca7df5e9cb'), ObjectId('67684bb314462fca7df5e9cc'), ObjectId('67684bb314462fca7df5e9cd'), ObjectId('67684bb314462fca7df5e9ce'), ObjectId('67684bb314462fca7df5e9cf'), ObjectId('67684bb314462fca7df5e9d0'), ObjectId('67684bb314462fca7df5e9d1'), ObjectId('67684bb314462fca7df5e9d2'), ObjectId('67684bb314462fca7df5e9d3'), ObjectId('67684bb314462fca7df5e9d4'), ObjectId('67684bb314462fca7df5e9d5'), ObjectId('67684bb314462fca7df5e9d6'), ObjectId('67684bb314462fca7df5e9d7'), ObjectId('67684bb314462fca7df5e9d8'), ObjectId('67684bb314462fca7df5e9d9'), ObjectId('67684bb314462fca7df5e9da'), ObjectId('67684bb314462fca7df5e9db'), ObjectId('67684bb314462fca7df5e9dc'), ObjectId('67684bb314462fca7df5e9dd'), ObjectId('67684bb314462fca7df5e9de'), ObjectId('67684bb314462fca7df5e9df'), ObjectId('67684bb314462fca7df5e9e0'), ObjectId('67684bb314462fca7df5e9e1'), ObjectId('67684bb314462fca7df5e9e2'), ObjectId('67684bb314462fca7df5e9e3'), ObjectId('67684bb314462fca7df5e9e4'), ObjectId('67684bb314462fca7df5e9e5'), ObjectId('67684bb314462fca7df5e9e6'), ObjectId('67684bb314462fca7df5e9e7'), ObjectId('67684bb314462fca7df5e9e8'), ObjectId('67684bb314462fca7df5e9e9'), ObjectId('67684bb314462fca7df5e9ea'), ObjectId('67684bb314462fca7df5e9eb'), ObjectId('67684bb314462fca7df5e9ec'), ObjectId('67684bb314462fca7df5e9ed'), ObjectId('67684bb314462fca7df5e9ee'), ObjectId('67684bb314462fca7df5e9ef'), ObjectId('67684bb314462fca7df5e9f0'), ObjectId('67684bb314462fca7df5e9f1'), ObjectId('67684bb314462fca7df5e9f2')], acknowledged=True)"
      ]
     },
     "execution_count": 22,
     "metadata": {},
     "output_type": "execute_result"
    }
   ],
   "source": [
    "db.Products.insert_many(products.to_dict(orient=\"records\"))"
   ]
  },
  {
   "cell_type": "markdown",
   "id": "9d10bed9-ab72-4f30-a744-2d8aa95f9ca4",
   "metadata": {},
   "source": [
    "## 3. Création de la collection \"Offices\" contenant les informations des bureaux ainsi que les employés assignés à chaque bureau (imbrication de la table \"Employees\" dans la table \"Offices\")"
   ]
  },
  {
   "cell_type": "code",
   "execution_count": 23,
   "id": "86c2930e-ba76-40df-87f5-68b22ff9ccfe",
   "metadata": {},
   "outputs": [
    {
     "data": {
      "text/plain": [
       "InsertManyResult([ObjectId('67684bb414462fca7df5e9f3'), ObjectId('67684bb414462fca7df5e9f4'), ObjectId('67684bb414462fca7df5e9f5'), ObjectId('67684bb414462fca7df5e9f6'), ObjectId('67684bb414462fca7df5e9f7'), ObjectId('67684bb414462fca7df5e9f8'), ObjectId('67684bb414462fca7df5e9f9')], acknowledged=True)"
      ]
     },
     "execution_count": 23,
     "metadata": {},
     "output_type": "execute_result"
    }
   ],
   "source": [
    "employees_2 = employees.groupby('officeCode').apply(\n",
    "    lambda x: x.drop(columns='officeCode').to_dict(orient='records')\n",
    ")\n",
    "\n",
    "Offices = offices.assign(\n",
    "    Employees=offices.officeCode.map(employees_2)\n",
    ")\n",
    "\n",
    "db.Offices.insert_many(Offices.to_dict(orient=\"records\"))"
   ]
  },
  {
   "cell_type": "markdown",
   "id": "18b8bee5-561f-4516-b51e-2aa0a155a881",
   "metadata": {},
   "source": [
    "## 4. Création de la collection indépendante \"Payments\" contenant les informations des paiements effectués par les clients (sans imbrication)"
   ]
  },
  {
   "cell_type": "code",
   "execution_count": 24,
   "id": "30011a41-c3fd-4c5d-9231-c615c2a1e77b",
   "metadata": {},
   "outputs": [
    {
     "data": {
      "text/plain": [
       "InsertManyResult([ObjectId('67684bb614462fca7df5e9fa'), ObjectId('67684bb614462fca7df5e9fb'), ObjectId('67684bb614462fca7df5e9fc'), ObjectId('67684bb614462fca7df5e9fd'), ObjectId('67684bb614462fca7df5e9fe'), ObjectId('67684bb614462fca7df5e9ff'), ObjectId('67684bb614462fca7df5ea00'), ObjectId('67684bb614462fca7df5ea01'), ObjectId('67684bb614462fca7df5ea02'), ObjectId('67684bb614462fca7df5ea03'), ObjectId('67684bb614462fca7df5ea04'), ObjectId('67684bb614462fca7df5ea05'), ObjectId('67684bb614462fca7df5ea06'), ObjectId('67684bb614462fca7df5ea07'), ObjectId('67684bb614462fca7df5ea08'), ObjectId('67684bb614462fca7df5ea09'), ObjectId('67684bb614462fca7df5ea0a'), ObjectId('67684bb614462fca7df5ea0b'), ObjectId('67684bb614462fca7df5ea0c'), ObjectId('67684bb614462fca7df5ea0d'), ObjectId('67684bb614462fca7df5ea0e'), ObjectId('67684bb614462fca7df5ea0f'), ObjectId('67684bb614462fca7df5ea10'), ObjectId('67684bb614462fca7df5ea11'), ObjectId('67684bb614462fca7df5ea12'), ObjectId('67684bb614462fca7df5ea13'), ObjectId('67684bb614462fca7df5ea14'), ObjectId('67684bb614462fca7df5ea15'), ObjectId('67684bb614462fca7df5ea16'), ObjectId('67684bb614462fca7df5ea17'), ObjectId('67684bb614462fca7df5ea18'), ObjectId('67684bb614462fca7df5ea19'), ObjectId('67684bb614462fca7df5ea1a'), ObjectId('67684bb614462fca7df5ea1b'), ObjectId('67684bb614462fca7df5ea1c'), ObjectId('67684bb614462fca7df5ea1d'), ObjectId('67684bb614462fca7df5ea1e'), ObjectId('67684bb614462fca7df5ea1f'), ObjectId('67684bb614462fca7df5ea20'), ObjectId('67684bb614462fca7df5ea21'), ObjectId('67684bb614462fca7df5ea22'), ObjectId('67684bb614462fca7df5ea23'), ObjectId('67684bb614462fca7df5ea24'), ObjectId('67684bb614462fca7df5ea25'), ObjectId('67684bb614462fca7df5ea26'), ObjectId('67684bb614462fca7df5ea27'), ObjectId('67684bb614462fca7df5ea28'), ObjectId('67684bb614462fca7df5ea29'), ObjectId('67684bb614462fca7df5ea2a'), ObjectId('67684bb614462fca7df5ea2b'), ObjectId('67684bb614462fca7df5ea2c'), ObjectId('67684bb614462fca7df5ea2d'), ObjectId('67684bb614462fca7df5ea2e'), ObjectId('67684bb614462fca7df5ea2f'), ObjectId('67684bb614462fca7df5ea30'), ObjectId('67684bb614462fca7df5ea31'), ObjectId('67684bb614462fca7df5ea32'), ObjectId('67684bb614462fca7df5ea33'), ObjectId('67684bb614462fca7df5ea34'), ObjectId('67684bb614462fca7df5ea35'), ObjectId('67684bb614462fca7df5ea36'), ObjectId('67684bb614462fca7df5ea37'), ObjectId('67684bb614462fca7df5ea38'), ObjectId('67684bb614462fca7df5ea39'), ObjectId('67684bb614462fca7df5ea3a'), ObjectId('67684bb614462fca7df5ea3b'), ObjectId('67684bb614462fca7df5ea3c'), ObjectId('67684bb614462fca7df5ea3d'), ObjectId('67684bb614462fca7df5ea3e'), ObjectId('67684bb614462fca7df5ea3f'), ObjectId('67684bb614462fca7df5ea40'), ObjectId('67684bb614462fca7df5ea41'), ObjectId('67684bb614462fca7df5ea42'), ObjectId('67684bb614462fca7df5ea43'), ObjectId('67684bb614462fca7df5ea44'), ObjectId('67684bb614462fca7df5ea45'), ObjectId('67684bb614462fca7df5ea46'), ObjectId('67684bb614462fca7df5ea47'), ObjectId('67684bb614462fca7df5ea48'), ObjectId('67684bb614462fca7df5ea49'), ObjectId('67684bb614462fca7df5ea4a'), ObjectId('67684bb614462fca7df5ea4b'), ObjectId('67684bb614462fca7df5ea4c'), ObjectId('67684bb614462fca7df5ea4d'), ObjectId('67684bb614462fca7df5ea4e'), ObjectId('67684bb614462fca7df5ea4f'), ObjectId('67684bb614462fca7df5ea50'), ObjectId('67684bb614462fca7df5ea51'), ObjectId('67684bb614462fca7df5ea52'), ObjectId('67684bb614462fca7df5ea53'), ObjectId('67684bb614462fca7df5ea54'), ObjectId('67684bb614462fca7df5ea55'), ObjectId('67684bb614462fca7df5ea56'), ObjectId('67684bb614462fca7df5ea57'), ObjectId('67684bb614462fca7df5ea58'), ObjectId('67684bb614462fca7df5ea59'), ObjectId('67684bb614462fca7df5ea5a'), ObjectId('67684bb614462fca7df5ea5b'), ObjectId('67684bb614462fca7df5ea5c'), ObjectId('67684bb614462fca7df5ea5d'), ObjectId('67684bb614462fca7df5ea5e'), ObjectId('67684bb614462fca7df5ea5f'), ObjectId('67684bb614462fca7df5ea60'), ObjectId('67684bb614462fca7df5ea61'), ObjectId('67684bb614462fca7df5ea62'), ObjectId('67684bb614462fca7df5ea63'), ObjectId('67684bb614462fca7df5ea64'), ObjectId('67684bb614462fca7df5ea65'), ObjectId('67684bb614462fca7df5ea66'), ObjectId('67684bb614462fca7df5ea67'), ObjectId('67684bb614462fca7df5ea68'), ObjectId('67684bb614462fca7df5ea69'), ObjectId('67684bb614462fca7df5ea6a'), ObjectId('67684bb614462fca7df5ea6b'), ObjectId('67684bb614462fca7df5ea6c'), ObjectId('67684bb614462fca7df5ea6d'), ObjectId('67684bb614462fca7df5ea6e'), ObjectId('67684bb614462fca7df5ea6f'), ObjectId('67684bb614462fca7df5ea70'), ObjectId('67684bb614462fca7df5ea71'), ObjectId('67684bb614462fca7df5ea72'), ObjectId('67684bb614462fca7df5ea73'), ObjectId('67684bb614462fca7df5ea74'), ObjectId('67684bb614462fca7df5ea75'), ObjectId('67684bb614462fca7df5ea76'), ObjectId('67684bb614462fca7df5ea77'), ObjectId('67684bb614462fca7df5ea78'), ObjectId('67684bb614462fca7df5ea79'), ObjectId('67684bb614462fca7df5ea7a'), ObjectId('67684bb614462fca7df5ea7b'), ObjectId('67684bb614462fca7df5ea7c'), ObjectId('67684bb614462fca7df5ea7d'), ObjectId('67684bb614462fca7df5ea7e'), ObjectId('67684bb614462fca7df5ea7f'), ObjectId('67684bb614462fca7df5ea80'), ObjectId('67684bb614462fca7df5ea81'), ObjectId('67684bb614462fca7df5ea82'), ObjectId('67684bb614462fca7df5ea83'), ObjectId('67684bb614462fca7df5ea84'), ObjectId('67684bb614462fca7df5ea85'), ObjectId('67684bb614462fca7df5ea86'), ObjectId('67684bb614462fca7df5ea87'), ObjectId('67684bb614462fca7df5ea88'), ObjectId('67684bb614462fca7df5ea89'), ObjectId('67684bb614462fca7df5ea8a'), ObjectId('67684bb614462fca7df5ea8b'), ObjectId('67684bb614462fca7df5ea8c'), ObjectId('67684bb614462fca7df5ea8d'), ObjectId('67684bb614462fca7df5ea8e'), ObjectId('67684bb614462fca7df5ea8f'), ObjectId('67684bb614462fca7df5ea90'), ObjectId('67684bb614462fca7df5ea91'), ObjectId('67684bb614462fca7df5ea92'), ObjectId('67684bb614462fca7df5ea93'), ObjectId('67684bb614462fca7df5ea94'), ObjectId('67684bb614462fca7df5ea95'), ObjectId('67684bb614462fca7df5ea96'), ObjectId('67684bb614462fca7df5ea97'), ObjectId('67684bb614462fca7df5ea98'), ObjectId('67684bb614462fca7df5ea99'), ObjectId('67684bb614462fca7df5ea9a'), ObjectId('67684bb614462fca7df5ea9b'), ObjectId('67684bb614462fca7df5ea9c'), ObjectId('67684bb614462fca7df5ea9d'), ObjectId('67684bb614462fca7df5ea9e'), ObjectId('67684bb614462fca7df5ea9f'), ObjectId('67684bb614462fca7df5eaa0'), ObjectId('67684bb614462fca7df5eaa1'), ObjectId('67684bb614462fca7df5eaa2'), ObjectId('67684bb614462fca7df5eaa3'), ObjectId('67684bb614462fca7df5eaa4'), ObjectId('67684bb614462fca7df5eaa5'), ObjectId('67684bb614462fca7df5eaa6'), ObjectId('67684bb614462fca7df5eaa7'), ObjectId('67684bb614462fca7df5eaa8'), ObjectId('67684bb614462fca7df5eaa9'), ObjectId('67684bb614462fca7df5eaaa'), ObjectId('67684bb614462fca7df5eaab'), ObjectId('67684bb614462fca7df5eaac'), ObjectId('67684bb614462fca7df5eaad'), ObjectId('67684bb614462fca7df5eaae'), ObjectId('67684bb614462fca7df5eaaf'), ObjectId('67684bb614462fca7df5eab0'), ObjectId('67684bb614462fca7df5eab1'), ObjectId('67684bb614462fca7df5eab2'), ObjectId('67684bb614462fca7df5eab3'), ObjectId('67684bb614462fca7df5eab4'), ObjectId('67684bb614462fca7df5eab5'), ObjectId('67684bb614462fca7df5eab6'), ObjectId('67684bb614462fca7df5eab7'), ObjectId('67684bb614462fca7df5eab8'), ObjectId('67684bb614462fca7df5eab9'), ObjectId('67684bb614462fca7df5eaba'), ObjectId('67684bb614462fca7df5eabb'), ObjectId('67684bb614462fca7df5eabc'), ObjectId('67684bb614462fca7df5eabd'), ObjectId('67684bb614462fca7df5eabe'), ObjectId('67684bb614462fca7df5eabf'), ObjectId('67684bb614462fca7df5eac0'), ObjectId('67684bb614462fca7df5eac1'), ObjectId('67684bb614462fca7df5eac2'), ObjectId('67684bb614462fca7df5eac3'), ObjectId('67684bb614462fca7df5eac4'), ObjectId('67684bb614462fca7df5eac5'), ObjectId('67684bb614462fca7df5eac6'), ObjectId('67684bb614462fca7df5eac7'), ObjectId('67684bb614462fca7df5eac8'), ObjectId('67684bb614462fca7df5eac9'), ObjectId('67684bb614462fca7df5eaca'), ObjectId('67684bb614462fca7df5eacb'), ObjectId('67684bb614462fca7df5eacc'), ObjectId('67684bb614462fca7df5eacd'), ObjectId('67684bb614462fca7df5eace'), ObjectId('67684bb614462fca7df5eacf'), ObjectId('67684bb614462fca7df5ead0'), ObjectId('67684bb614462fca7df5ead1'), ObjectId('67684bb614462fca7df5ead2'), ObjectId('67684bb614462fca7df5ead3'), ObjectId('67684bb614462fca7df5ead4'), ObjectId('67684bb614462fca7df5ead5'), ObjectId('67684bb614462fca7df5ead6'), ObjectId('67684bb614462fca7df5ead7'), ObjectId('67684bb614462fca7df5ead8'), ObjectId('67684bb614462fca7df5ead9'), ObjectId('67684bb614462fca7df5eada'), ObjectId('67684bb614462fca7df5eadb'), ObjectId('67684bb614462fca7df5eadc'), ObjectId('67684bb614462fca7df5eadd'), ObjectId('67684bb614462fca7df5eade'), ObjectId('67684bb614462fca7df5eadf'), ObjectId('67684bb614462fca7df5eae0'), ObjectId('67684bb614462fca7df5eae1'), ObjectId('67684bb614462fca7df5eae2'), ObjectId('67684bb614462fca7df5eae3'), ObjectId('67684bb614462fca7df5eae4'), ObjectId('67684bb614462fca7df5eae5'), ObjectId('67684bb614462fca7df5eae6'), ObjectId('67684bb614462fca7df5eae7'), ObjectId('67684bb614462fca7df5eae8'), ObjectId('67684bb614462fca7df5eae9'), ObjectId('67684bb614462fca7df5eaea'), ObjectId('67684bb614462fca7df5eaeb'), ObjectId('67684bb614462fca7df5eaec'), ObjectId('67684bb614462fca7df5eaed'), ObjectId('67684bb614462fca7df5eaee'), ObjectId('67684bb614462fca7df5eaef'), ObjectId('67684bb614462fca7df5eaf0'), ObjectId('67684bb614462fca7df5eaf1'), ObjectId('67684bb614462fca7df5eaf2'), ObjectId('67684bb614462fca7df5eaf3'), ObjectId('67684bb614462fca7df5eaf4'), ObjectId('67684bb614462fca7df5eaf5'), ObjectId('67684bb614462fca7df5eaf6'), ObjectId('67684bb614462fca7df5eaf7'), ObjectId('67684bb614462fca7df5eaf8'), ObjectId('67684bb614462fca7df5eaf9'), ObjectId('67684bb614462fca7df5eafa'), ObjectId('67684bb614462fca7df5eafb'), ObjectId('67684bb614462fca7df5eafc'), ObjectId('67684bb614462fca7df5eafd'), ObjectId('67684bb614462fca7df5eafe'), ObjectId('67684bb614462fca7df5eaff'), ObjectId('67684bb614462fca7df5eb00'), ObjectId('67684bb614462fca7df5eb01'), ObjectId('67684bb614462fca7df5eb02'), ObjectId('67684bb614462fca7df5eb03'), ObjectId('67684bb614462fca7df5eb04'), ObjectId('67684bb614462fca7df5eb05'), ObjectId('67684bb614462fca7df5eb06'), ObjectId('67684bb614462fca7df5eb07'), ObjectId('67684bb614462fca7df5eb08'), ObjectId('67684bb614462fca7df5eb09')], acknowledged=True)"
      ]
     },
     "execution_count": 24,
     "metadata": {},
     "output_type": "execute_result"
    }
   ],
   "source": [
    "db.Payments.insert_many(payments.to_dict(orient=\"records\"))"
   ]
  },
  {
   "cell_type": "markdown",
   "id": "a0cc2f2b-8b88-4a97-bffa-1e3d0adbec82",
   "metadata": {},
   "source": [
    "## 5. Création de la collection indépendante \"Customers\" contenant les informations détaillées des clients (sans imbrication)"
   ]
  },
  {
   "cell_type": "code",
   "execution_count": 25,
   "id": "a5b0ef41-1a23-4be3-9577-19b284a6a85a",
   "metadata": {},
   "outputs": [
    {
     "data": {
      "text/plain": [
       "InsertManyResult([ObjectId('67684bb914462fca7df5eb0a'), ObjectId('67684bb914462fca7df5eb0b'), ObjectId('67684bb914462fca7df5eb0c'), ObjectId('67684bb914462fca7df5eb0d'), ObjectId('67684bb914462fca7df5eb0e'), ObjectId('67684bb914462fca7df5eb0f'), ObjectId('67684bb914462fca7df5eb10'), ObjectId('67684bb914462fca7df5eb11'), ObjectId('67684bb914462fca7df5eb12'), ObjectId('67684bb914462fca7df5eb13'), ObjectId('67684bb914462fca7df5eb14'), ObjectId('67684bb914462fca7df5eb15'), ObjectId('67684bb914462fca7df5eb16'), ObjectId('67684bb914462fca7df5eb17'), ObjectId('67684bb914462fca7df5eb18'), ObjectId('67684bb914462fca7df5eb19'), ObjectId('67684bb914462fca7df5eb1a'), ObjectId('67684bb914462fca7df5eb1b'), ObjectId('67684bb914462fca7df5eb1c'), ObjectId('67684bb914462fca7df5eb1d'), ObjectId('67684bb914462fca7df5eb1e'), ObjectId('67684bb914462fca7df5eb1f'), ObjectId('67684bb914462fca7df5eb20'), ObjectId('67684bb914462fca7df5eb21'), ObjectId('67684bb914462fca7df5eb22'), ObjectId('67684bb914462fca7df5eb23'), ObjectId('67684bb914462fca7df5eb24'), ObjectId('67684bb914462fca7df5eb25'), ObjectId('67684bb914462fca7df5eb26'), ObjectId('67684bb914462fca7df5eb27'), ObjectId('67684bb914462fca7df5eb28'), ObjectId('67684bb914462fca7df5eb29'), ObjectId('67684bb914462fca7df5eb2a'), ObjectId('67684bb914462fca7df5eb2b'), ObjectId('67684bb914462fca7df5eb2c'), ObjectId('67684bb914462fca7df5eb2d'), ObjectId('67684bb914462fca7df5eb2e'), ObjectId('67684bb914462fca7df5eb2f'), ObjectId('67684bb914462fca7df5eb30'), ObjectId('67684bb914462fca7df5eb31'), ObjectId('67684bb914462fca7df5eb32'), ObjectId('67684bb914462fca7df5eb33'), ObjectId('67684bb914462fca7df5eb34'), ObjectId('67684bb914462fca7df5eb35'), ObjectId('67684bb914462fca7df5eb36'), ObjectId('67684bb914462fca7df5eb37'), ObjectId('67684bb914462fca7df5eb38'), ObjectId('67684bb914462fca7df5eb39'), ObjectId('67684bb914462fca7df5eb3a'), ObjectId('67684bb914462fca7df5eb3b'), ObjectId('67684bb914462fca7df5eb3c'), ObjectId('67684bb914462fca7df5eb3d'), ObjectId('67684bb914462fca7df5eb3e'), ObjectId('67684bb914462fca7df5eb3f'), ObjectId('67684bb914462fca7df5eb40'), ObjectId('67684bb914462fca7df5eb41'), ObjectId('67684bb914462fca7df5eb42'), ObjectId('67684bb914462fca7df5eb43'), ObjectId('67684bb914462fca7df5eb44'), ObjectId('67684bb914462fca7df5eb45'), ObjectId('67684bb914462fca7df5eb46'), ObjectId('67684bb914462fca7df5eb47'), ObjectId('67684bb914462fca7df5eb48'), ObjectId('67684bb914462fca7df5eb49'), ObjectId('67684bb914462fca7df5eb4a'), ObjectId('67684bb914462fca7df5eb4b'), ObjectId('67684bb914462fca7df5eb4c'), ObjectId('67684bb914462fca7df5eb4d'), ObjectId('67684bb914462fca7df5eb4e'), ObjectId('67684bb914462fca7df5eb4f'), ObjectId('67684bb914462fca7df5eb50'), ObjectId('67684bb914462fca7df5eb51'), ObjectId('67684bb914462fca7df5eb52'), ObjectId('67684bb914462fca7df5eb53'), ObjectId('67684bb914462fca7df5eb54'), ObjectId('67684bb914462fca7df5eb55'), ObjectId('67684bb914462fca7df5eb56'), ObjectId('67684bb914462fca7df5eb57'), ObjectId('67684bb914462fca7df5eb58'), ObjectId('67684bb914462fca7df5eb59'), ObjectId('67684bb914462fca7df5eb5a'), ObjectId('67684bb914462fca7df5eb5b'), ObjectId('67684bb914462fca7df5eb5c'), ObjectId('67684bb914462fca7df5eb5d'), ObjectId('67684bb914462fca7df5eb5e'), ObjectId('67684bb914462fca7df5eb5f'), ObjectId('67684bb914462fca7df5eb60'), ObjectId('67684bb914462fca7df5eb61'), ObjectId('67684bb914462fca7df5eb62'), ObjectId('67684bb914462fca7df5eb63'), ObjectId('67684bb914462fca7df5eb64'), ObjectId('67684bb914462fca7df5eb65'), ObjectId('67684bb914462fca7df5eb66'), ObjectId('67684bb914462fca7df5eb67'), ObjectId('67684bb914462fca7df5eb68'), ObjectId('67684bb914462fca7df5eb69'), ObjectId('67684bb914462fca7df5eb6a'), ObjectId('67684bb914462fca7df5eb6b'), ObjectId('67684bb914462fca7df5eb6c'), ObjectId('67684bb914462fca7df5eb6d'), ObjectId('67684bb914462fca7df5eb6e'), ObjectId('67684bb914462fca7df5eb6f'), ObjectId('67684bb914462fca7df5eb70'), ObjectId('67684bb914462fca7df5eb71'), ObjectId('67684bb914462fca7df5eb72'), ObjectId('67684bb914462fca7df5eb73'), ObjectId('67684bb914462fca7df5eb74'), ObjectId('67684bb914462fca7df5eb75'), ObjectId('67684bb914462fca7df5eb76'), ObjectId('67684bb914462fca7df5eb77'), ObjectId('67684bb914462fca7df5eb78'), ObjectId('67684bb914462fca7df5eb79'), ObjectId('67684bb914462fca7df5eb7a'), ObjectId('67684bb914462fca7df5eb7b'), ObjectId('67684bb914462fca7df5eb7c'), ObjectId('67684bb914462fca7df5eb7d'), ObjectId('67684bb914462fca7df5eb7e'), ObjectId('67684bb914462fca7df5eb7f'), ObjectId('67684bb914462fca7df5eb80'), ObjectId('67684bb914462fca7df5eb81'), ObjectId('67684bb914462fca7df5eb82'), ObjectId('67684bb914462fca7df5eb83')], acknowledged=True)"
      ]
     },
     "execution_count": 25,
     "metadata": {},
     "output_type": "execute_result"
    }
   ],
   "source": [
    "db.Customers.insert_many(customers.to_dict(orient=\"records\"))"
   ]
  },
  {
   "cell_type": "code",
   "execution_count": 10,
   "id": "d002e9eb-f3a4-44bc-aa56-929785963f58",
   "metadata": {},
   "outputs": [],
   "source": [
    "conn.close()"
   ]
  }
 ],
 "metadata": {
  "kernelspec": {
   "display_name": "Python 3 (ipykernel)",
   "language": "python",
   "name": "python3"
  },
  "language_info": {
   "codemirror_mode": {
    "name": "ipython",
    "version": 3
   },
   "file_extension": ".py",
   "mimetype": "text/x-python",
   "name": "python",
   "nbconvert_exporter": "python",
   "pygments_lexer": "ipython3",
   "version": "3.12.1"
  }
 },
 "nbformat": 4,
 "nbformat_minor": 5
}
