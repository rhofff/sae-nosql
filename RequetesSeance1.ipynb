{
 "cells": [
  {
   "cell_type": "markdown",
   "id": "aa971e83-9753-4f86-a66c-a27e26515e46",
   "metadata": {},
   "source": [
    "# Requetes Séance 1"
   ]
  },
  {
   "cell_type": "code",
   "execution_count": 3,
   "id": "4f055af3-a129-47d0-9d6f-b0a377cd9ccd",
   "metadata": {},
   "outputs": [],
   "source": [
    "import sqlite3\n",
    "import pandas as pd"
   ]
  },
  {
   "cell_type": "code",
   "execution_count": 4,
   "id": "399efa34-aaf4-4ae9-93b9-226e830db80d",
   "metadata": {},
   "outputs": [],
   "source": [
    "conn = sqlite3.connect(\"C:/Users/rhofr/OneDrive/Bureau/but3/sae nosql/seance 3/ClassicModel.sqlite\")"
   ]
  },
  {
   "cell_type": "markdown",
   "id": "b0271f6d-acbd-4ebe-b1ac-3269d947eaaf",
   "metadata": {},
   "source": [
    "## 1. Lister les clients n’ayant jamais effecuté une commande ;"
   ]
  },
  {
   "cell_type": "code",
   "execution_count": 5,
   "id": "ff142865-d9b9-4d92-8b91-8274feced89f",
   "metadata": {},
   "outputs": [
    {
     "name": "stdout",
     "output_type": "stream",
     "text": [
      "    customerNumber                    customerName\n",
      "0              125              Havel & Zbyszek Co\n",
      "1              168          American Souvenirs Inc\n",
      "2              169               Porto Imports Co.\n",
      "3              206      Asian Shopping Network, Co\n",
      "4              223                 Natürlich Autos\n",
      "5              237                   ANG Resellers\n",
      "6              247        Messner Shopping Network\n",
      "7              273               Franken Gifts, Co\n",
      "8              293               BG&E Collectables\n",
      "9              303                Schuyler Imports\n",
      "10             307                Der Hund Imports\n",
      "11             335       Cramer Spezialitäten, Ltd\n",
      "12             348           Asian Treasures, Inc.\n",
      "13             356            SAR Distributors, Co\n",
      "14             361                 Kommission Auto\n",
      "15             369          Lisboa Souveniers, Inc\n",
      "16             376           Precious Collectables\n",
      "17             409  Stuttgart Collectable Exchange\n",
      "18             443        Feuer Online Stores, Inc\n",
      "19             459                Warburg Exchange\n",
      "20             465             Anton Designs, Ltd.\n",
      "21             477             Mit Vergnügen & Co.\n",
      "22             480       Kremlin Collectables, Co.\n",
      "23             481              Raanan Stores, Inc\n"
     ]
    }
   ],
   "source": [
    "customers_1 = pd.read_sql_query(\n",
    "    \"\"\"\n",
    "    SELECT Customers.customerNumber, Customers.customerName     \n",
    "    FROM Customers\n",
    "    LEFT JOIN Payments ON Customers.customerNumber = Payments.customerNumber\n",
    "    WHERE Payments.customerNumber IS NULL\n",
    "    \"\"\", conn\n",
    ")\n",
    "\n",
    "print(customers_1)"
   ]
  },
  {
   "cell_type": "markdown",
   "id": "845d32c5-4d8c-4020-9604-4b138d353971",
   "metadata": {
    "jp-MarkdownHeadingCollapsed": true
   },
   "source": [
    "#### Objectif de la démarche : Identifier les clients inactifs pour lancer des campagnes de relance ciblées. \n",
    "#### Explication de la démarche :\n",
    "#### On effectue un left join entre les tables \"Customers\" et \"Payments\" avec le numéro du client (customerNumber) comme clé de jointure dans le but d'avoir tous les clients, même ceux qui ne sont pas présents dans la table \"Payments\". On filtre ensuite les résultats de cette jointure pour ne garder que les clients dont le numéro client n’apparaît pas dans la table Payments, c’est-à-dire les clients qui n’ont jamais effectué de paiement (donc de commande). On décide de n'afficher que le numéro et le nom du client"
   ]
  },
  {
   "cell_type": "markdown",
   "id": "3f010067-ef1a-409a-a24a-287941a8b13d",
   "metadata": {},
   "source": [
    "## 2. Pour chaque employé, le nombre de clients, le nombre de commandes et le montant total de celles-ci ;"
   ]
  },
  {
   "cell_type": "code",
   "execution_count": 6,
   "id": "9cd4f0c9-f4b0-45ac-84cd-968ede33b4e2",
   "metadata": {},
   "outputs": [
    {
     "name": "stdout",
     "output_type": "stream",
     "text": [
      "    employeeNumber firstName   lastName  nb_clients  nb_commandes  \\\n",
      "0             1002     Diane     Murphy           0             0   \n",
      "1             1056      Mary  Patterson           0             0   \n",
      "2             1076      Jeff   Firrelli           0             0   \n",
      "3             1088   William  Patterson           0             0   \n",
      "4             1102    Gerard     Bondur           0             0   \n",
      "5             1143   Anthony        Bow           0             0   \n",
      "6             1165    Leslie   Jennings           6            34   \n",
      "7             1166    Leslie   Thompson           6            14   \n",
      "8             1188     Julie   Firrelli           6            14   \n",
      "9             1216     Steve  Patterson           6            18   \n",
      "10            1286  Foon Yue      Tseng           7            17   \n",
      "11            1323    George     Vanauf           8            22   \n",
      "12            1337      Loui     Bondur           6            20   \n",
      "13            1370    Gerard  Hernandez           7            43   \n",
      "14            1401    Pamela   Castillo          10            31   \n",
      "15            1501     Larry       Bott           8            22   \n",
      "16            1504     Barry      Jones           9            25   \n",
      "17            1611      Andy     Fixter           5            19   \n",
      "18            1612     Peter      Marsh           5            19   \n",
      "19            1619       Tom       King           0             0   \n",
      "20            1621      Mami      Nishi           5            16   \n",
      "21            1625   Yoshimi       Kato           0             0   \n",
      "22            1702    Martin     Gerard           6            12   \n",
      "\n",
      "    montant_total  \n",
      "0             NaN  \n",
      "1             NaN  \n",
      "2             NaN  \n",
      "3             NaN  \n",
      "4             NaN  \n",
      "5             NaN  \n",
      "6      1210228.57  \n",
      "7       378064.72  \n",
      "8       422257.44  \n",
      "9       565516.73  \n",
      "10      550395.19  \n",
      "11      725598.76  \n",
      "12      621798.01  \n",
      "13     1401412.66  \n",
      "14      959738.52  \n",
      "15      808462.37  \n",
      "16      795706.43  \n",
      "17      630623.10  \n",
      "18      651082.73  \n",
      "19            NaN  \n",
      "20      503957.58  \n",
      "21            NaN  \n",
      "22      421106.37  \n"
     ]
    }
   ],
   "source": [
    "employes = pd.read_sql_query(\n",
    "    \"\"\"\n",
    "    SELECT \n",
    "        e.employeeNumber, e.firstName, e.lastName,\n",
    "        COUNT(DISTINCT c.customerNumber) AS nb_clients,\n",
    "        COUNT(DISTINCT o.orderNumber) AS nb_commandes,\n",
    "        SUM(od.quantityOrdered * od.priceEach) AS montant_total\n",
    "    FROM \n",
    "        Employees e\n",
    "    LEFT JOIN \n",
    "        Customers c ON e.employeeNumber = c.salesRepEmployeeNumber\n",
    "    LEFT JOIN \n",
    "        Orders o ON c.customerNumber = o.customerNumber\n",
    "    LEFT JOIN \n",
    "        OrderDetails od ON o.orderNumber = od.orderNumber\n",
    "    GROUP BY \n",
    "        e.employeeNumber, e.firstName, e.lastName;\n",
    "    \"\"\", conn\n",
    ")\n",
    "\n",
    "print(employes)"
   ]
  },
  {
   "cell_type": "markdown",
   "id": "84d1c834-9f17-44d6-98ec-f61d9e2a1e40",
   "metadata": {},
   "source": [
    "#### Objectif de la démarche : Évaluer la performance des employés.\n",
    "#### Explication de la démarche :\n",
    "#### Jointure des tables :\n",
    "\n",
    "#### On effectue une série de left join entre les tables Employees, Customers, Orders, et OrderDetails dans le but d'inclure tous les employés de la base de données : \n",
    "#### - un left join entre les tables Employees et Customers en utilisant le employeeNumber comme clé de jointure dans le but d'avoir tous les employés, même ceux sans clients associés,\n",
    "#### - un left join entre les tables Customers et Orders en utilisant customerNumber comme clé de jointure dans le but d'avoir tous les clients, même ceux sans commandes associées,\n",
    "#### - un left join entre les tables Orders et OrderDetails en utilisant orderNumber comme clé de jointure dans le but d'avoir toutes les commandes, même celles sans détails associés.\n",
    "#### Groupement des résultats :\n",
    "\n",
    "#### On groupe les résultats par le numéro (employeeNumber), le nom (firstName), et le prénom (lastName) de l'employé pour obtenir des statistiques agrégées pour chaque employé individuellement.\n",
    "#### Calculs :\n",
    "\n",
    "#### On décide d'afficher le numéro de l'employé (employeeNumber) et le nom complet de l’employé (firstName || ' ' || lastName) pour identifier chaque employé de manière unique et lisible.\n",
    "#### On utilise la fonction COUNT(DISTINCT c.customerNumber) pour compter le nombre de clients distincts associés à chaque employé : on nomme la colonne \"nb_clients\"\n",
    "#### On utilise la fonction COUNT(DISTINCT o.orderNumber) pour compter le nombre de commandes distinctes associées à chaque employé : on nomme la colonne \"nb_commandes\"\n",
    "#### On utilise la fonction SUM(od.quantityOrdered * od.priceEach) pour calculer le montant total des commandes associées à chaque employé qui fait la somme de chaque produit quantité*prix  pour chaque commandes associées à chaque employé. On nomme la colonne \"montant_total\".\n"
   ]
  },
  {
   "cell_type": "markdown",
   "id": "87a836de-6c2f-442a-8187-a81bdd944263",
   "metadata": {},
   "source": [
    "## 3. Idem pour chaque bureau (nombre de clients, nombre de commandes et montant total), avec en plus le nombre de clients d’un pays différent, s’il y en a ;"
   ]
  },
  {
   "cell_type": "code",
   "execution_count": 7,
   "id": "6f4980ba-98f5-4525-8a3e-4283a63136be",
   "metadata": {},
   "outputs": [
    {
     "name": "stdout",
     "output_type": "stream",
     "text": [
      "  officeCode           city  nb_clients  nb_commandes  montant_total  \\\n",
      "0        1.0  San Francisco          12            48     1588293.29   \n",
      "1        2.0         Boston          12            32      987774.17   \n",
      "2        3.0            NYC          15            39     1275993.95   \n",
      "3        4.0          Paris          29           106     3404055.56   \n",
      "4        5.0          Tokyo           5            16      503957.58   \n",
      "5        6.0         Sydney          10            38     1281705.83   \n",
      "6        7.0         London          17            47     1604168.80   \n",
      "\n",
      "   nb_clients_etrangers  \n",
      "0                     0  \n",
      "1                     0  \n",
      "2                     3  \n",
      "3                    17  \n",
      "4                     3  \n",
      "5                     5  \n",
      "6                    12  \n"
     ]
    }
   ],
   "source": [
    "office_stats = pd.read_sql_query(\n",
    "    \"\"\"\n",
    "    SELECT \n",
    "        o.officeCode,\n",
    "        o.city,\n",
    "        COUNT(DISTINCT c.customerNumber) AS nb_clients,\n",
    "        COUNT(DISTINCT ord.orderNumber) AS nb_commandes,\n",
    "        SUM(od.quantityOrdered * od.priceEach) AS montant_total,\n",
    "        COUNT(DISTINCT CASE WHEN c.country != o.country THEN c.customerNumber END) AS nb_clients_etrangers\n",
    "    FROM \n",
    "        Offices o\n",
    "    LEFT JOIN \n",
    "        Employees e ON o.officeCode = e.officeCode\n",
    "    LEFT JOIN \n",
    "        Customers c ON e.employeeNumber = c.salesRepEmployeeNumber\n",
    "    LEFT JOIN \n",
    "        Orders ord ON c.customerNumber = ord.customerNumber\n",
    "    LEFT JOIN \n",
    "        OrderDetails od ON ord.orderNumber = od.orderNumber\n",
    "    GROUP BY \n",
    "        o.officeCode, o.city\n",
    "    ORDER BY \n",
    "        o.officeCode;\n",
    "    \"\"\", conn\n",
    ")\n",
    "\n",
    "print(office_stats)"
   ]
  },
  {
   "cell_type": "markdown",
   "id": "556aad33-e62c-4d11-a653-092db6f0edb1",
   "metadata": {},
   "source": [
    "#### Objectif de la démarche : Analyser les performances des bureaux et leur portée internationale.\n",
    "#### Explication de la démarche :\n",
    "#### Jointure des tables : \n",
    "#### On effectue une série de left join pour avoir tous les bureaux, même ceux sans employés, clients, ou commandes associés.\n",
    "#### - entre Offices et Employees sur officeCode pour inclure tous les bureaux,\n",
    "#### - entre Employees et Customers sur employeeNumber pour inclure tous les employés,\n",
    "#### - entre Customers et Orders sur customerNumber pour inclure tous les clients,\n",
    "#### - entre Orders et OrderDetails sur orderNumber pour inclure toutes les commandes.\n",
    "\n",
    "#### Groupement des résultats :\n",
    "#### On groupe les résultats par le numéro du bureau (officeCode) et la ville (city) pour obtenir les statistiques agrégées pour chaque bureau.\n",
    "\n",
    "#### Séléction des colonnes et calculs : \n",
    "#### On sélectionne les colonnes officeCode et city pour identifier chaque bureau par son numéro et sa ville.\n",
    "#### On utilise COUNT(DISTINCT c.customerNumber) pour compter le nombre de clients distincts associés à chaque bureau,\n",
    "#### On utilise COUNT(DISTINCT ord.orderNumber) pour compter le nombre de commandes distinctes associées à chaque bureau,\n",
    "#### On utilise SUM(od.quantityOrdered * od.priceEach) pour calculer le montant total des commandes associées à chaque bureau de la même manière que dans la question 2), \n",
    "#### On utilise COUNT(DISTINCT CASE WHEN c.country != o.country THEN c.customerNumber END) pour compter le nombre de clients distincts d’un pays différent en mettant en place une condition : si le pays du client (c.countru) est différent du pays du bureau (o.country), le numéro du client est retourné. "
   ]
  },
  {
   "cell_type": "markdown",
   "id": "6c756a0a-7b68-44de-8333-e44b02fe202d",
   "metadata": {},
   "source": [
    "## 4. Pour chaque produit, donner le nombre de commandes, la quantité totale commandée, et le nombre de clients différents ;"
   ]
  },
  {
   "cell_type": "code",
   "execution_count": 8,
   "id": "e11c7b5e-fb6c-4c13-91bf-b259e0b04728",
   "metadata": {},
   "outputs": [
    {
     "name": "stdout",
     "output_type": "stream",
     "text": [
      "Stats par produit:\n",
      "     productCode                            productName  numberOfOrders  \\\n",
      "0      S10_1678  1969 Harley Davidson Ultimate Chopper              28   \n",
      "1      S10_1949               1952 Alpine Renault 1300              28   \n",
      "2      S10_2016                  1996 Moto Guzzi 1100i              28   \n",
      "3      S10_4698   2003 Harley-Davidson Eagle Drag Bike              28   \n",
      "4      S10_4757                    1972 Alfa Romeo GTA              28   \n",
      "..          ...                                    ...             ...   \n",
      "105   S700_3505                            The Titanic              27   \n",
      "106   S700_3962                         The Queen Mary              27   \n",
      "107   S700_4002              American Airlines: MD-11S              28   \n",
      "108    S72_1253                       Boeing X-32A JSF              28   \n",
      "109    S72_3212                             Pont Yacht              27   \n",
      "\n",
      "     totalQuantity  numberOfClients  \n",
      "0           1026.0               26  \n",
      "1            961.0               27  \n",
      "2            999.0               26  \n",
      "3            985.0               25  \n",
      "4           1000.0               27  \n",
      "..             ...              ...  \n",
      "105          952.0               22  \n",
      "106          883.0               24  \n",
      "107         1073.0               26  \n",
      "108          960.0               27  \n",
      "109          958.0               24  \n",
      "\n",
      "[110 rows x 5 columns]\n"
     ]
    }
   ],
   "source": [
    "stats_produits = pd.read_sql_query(\n",
    "    \"\"\"\n",
    "    SELECT Products.productCode, Products.productName, COUNT(DISTINCT OrderDetails.orderNumber) AS numberOfOrders,\n",
    "           SUM(OrderDetails.quantityOrdered) AS totalQuantity,\n",
    "           COUNT(DISTINCT Orders.customerNumber) AS numberOfClients\n",
    "    FROM Products\n",
    "    LEFT JOIN OrderDetails ON Products.productCode = OrderDetails.productCode\n",
    "    LEFT JOIN Orders ON OrderDetails.orderNumber = Orders.orderNumber\n",
    "    GROUP BY Products.productCode\n",
    "    \"\"\",\n",
    "    conn\n",
    ")\n",
    "print(\"Stats par produit:\\n\", stats_produits)"
   ]
  },
  {
   "cell_type": "markdown",
   "id": "b086c359-07b8-462e-a785-8c9321c58bf5",
   "metadata": {},
   "source": [
    "#### Objectif de la démarche : Identifier les produits les plus populaires et les tendances d’achat.\n",
    "#### Explication de la démarche :\n",
    "#### - Jointure des tables :\n",
    "#### On relie les produits (`Products`) avec les commandes (`Orders`) et les détails de commande (`OrderDetails`). \n",
    "#### Colonnes calculées : \n",
    "#### `COUNT(DISTINCT OrderDetails.orderNumber)` pour le nombre de commandes ayant inclus le produit. \n",
    "#### `SUM(OrderDetails.quantityOrdered)` pour la quantité totale commandée. \n",
    "#### `COUNT(DISTINCT Orders.customerNumber)` pour le nombre de clients ayant commandé ce produit. \n",
    "####Groupement : Les résultats sont regroupés par produit (`productCode`). "
   ]
  },
  {
   "cell_type": "markdown",
   "id": "ecdecb13-7620-4b9d-b09c-63c42752d93d",
   "metadata": {},
   "source": [
    "## 5. Donner le nombre de commande pour chaque pays, ainsi que le montant total des commandes et le montant total payé : on veut conserver les clients n’ayant jamais commandé dans le résultat final ;"
   ]
  },
  {
   "cell_type": "code",
   "execution_count": 9,
   "id": "4184a076-dba7-45be-8a77-da9fabc56598",
   "metadata": {},
   "outputs": [
    {
     "name": "stdout",
     "output_type": "stream",
     "text": [
      "Stats par pays:\n",
      "          country  numberOfOrders  totalAmount     totalPaid\n",
      "0      Australia              19   2182269.38  2.482541e+07\n",
      "1        Austria               7    606187.59  4.090982e+06\n",
      "2        Belgium               7    283705.44  1.931535e+06\n",
      "3         Canada               7    448157.12  4.487022e+06\n",
      "4        Denmark               7    781357.50  7.001114e+06\n",
      "5        Finland               9    988745.73  1.009620e+07\n",
      "6         France              37   3160296.75  3.141444e+07\n",
      "7        Germany               7    576293.44  4.971661e+06\n",
      "8      Hong Kong               2     48784.36  7.805498e+05\n",
      "9        Ireland               2    115512.86  9.241029e+05\n",
      "10        Israel               0          NaN           NaN\n",
      "11         Italy              10    945208.16  1.324310e+07\n",
      "12         Japan               6    496898.36  4.837611e+06\n",
      "13   Netherlands               0          NaN           NaN\n",
      "14   New Zealand              15   1736137.04  1.710337e+07\n",
      "15        Norway               9    848125.78  8.870124e+06\n",
      "16   Philippines               3    282047.19  2.444409e+06\n",
      "17        Poland               0          NaN           NaN\n",
      "18      Portugal               0          NaN           NaN\n",
      "19        Russia               0          NaN           NaN\n",
      "20     Singapore               9   1038454.91  1.150336e+07\n",
      "21  South Africa               0          NaN           NaN\n",
      "22         Spain              36  12665636.19  2.123241e+08\n",
      "23        Sweden               7    554287.75  6.541197e+06\n",
      "24   Switzerland               2    235427.12  3.649120e+06\n",
      "25            UK              13   1204373.23  1.506256e+07\n",
      "26           USA             112  14228729.12  1.957451e+08\n"
     ]
    }
   ],
   "source": [
    "stats_pays = pd.read_sql_query(\n",
    "    \"\"\"\n",
    "    SELECT Customers.country, COUNT(DISTINCT Orders.orderNumber) AS numberOfOrders,\n",
    "           SUM(OrderDetails.quantityOrdered * OrderDetails.priceEach) AS totalAmount,\n",
    "           SUM(Payments.amount) AS totalPaid\n",
    "    FROM Customers\n",
    "    LEFT JOIN Orders ON Customers.customerNumber = Orders.customerNumber\n",
    "    LEFT JOIN OrderDetails ON Orders.orderNumber = OrderDetails.orderNumber\n",
    "    LEFT JOIN Payments ON Customers.customerNumber = Payments.customerNumber\n",
    "    GROUP BY Customers.country\n",
    "    \"\"\",\n",
    "    conn\n",
    ")\n",
    "print(\"Stats par pays:\\n\", stats_pays)"
   ]
  },
  {
   "cell_type": "markdown",
   "id": "4664789a-06b1-4c7d-9ac7-687163f839dc",
   "metadata": {},
   "source": [
    "#### Objectif de la démarche : Avoir une vue d’ensemble par pays. \n",
    "#### Explication de la démarche :\n",
    "#### - Jointure des tables : On relie les clients (`Customers`) avec les commandes (`Orders`), les détails de commande (`OrderDetails`), et les paiements (`Payments`). \n",
    "#### Colonnes calculées : \n",
    "#### `COUNT(DISTINCT Orders.orderNumber)` pour le nombre de commandes par pays. \n",
    "#### `SUM(OrderDetails.quantityOrdered * OrderDetails.priceEach)` pour le chiffre d’affaires total. \n",
    "#### `SUM(Payments.amount)` pour le total des paiements effectués. \n",
    "#### Groupement : Les résultats sont regroupés par pays (`country`). "
   ]
  },
  {
   "cell_type": "markdown",
   "id": "2a0d6d75-a471-4135-a0ca-ec08b3c3cd7b",
   "metadata": {},
   "source": [
    "## 6. On veut la table de contigence du nombre de commande entre la ligne de produits et le pays du client ;"
   ]
  },
  {
   "cell_type": "code",
   "execution_count": 10,
   "id": "4322c722-e147-474c-866a-2d36c58c08ad",
   "metadata": {},
   "outputs": [
    {
     "name": "stdout",
     "output_type": "stream",
     "text": [
      "Table de contingence (nombre de commandes):\n",
      " country           NaN  Australia  Austria  Belgium  Canada  Denmark  Finland  \\\n",
      "productLine                                                                    \n",
      "Classic Cars      0.0       12.0      5.0      2.0     6.0      5.0      9.0   \n",
      "Motorcycles       NaN        6.0      1.0      NaN     1.0      NaN      2.0   \n",
      "Planes            NaN        5.0      2.0      1.0     2.0      1.0      2.0   \n",
      "Ships             NaN        2.0      1.0      3.0     2.0      3.0      2.0   \n",
      "Trains            NaN        1.0      NaN      3.0     NaN      2.0      1.0   \n",
      "Trucks and Buses  NaN        5.0      1.0      NaN     3.0      1.0      2.0   \n",
      "Vintage Cars      NaN       14.0      4.0      5.0     5.0      3.0      2.0   \n",
      "\n",
      "country           France  Germany  Hong Kong  ...  Japan  New Zealand  Norway  \\\n",
      "productLine                                   ...                               \n",
      "Classic Cars        23.0      4.0        NaN  ...    3.0          9.0     4.0   \n",
      "Motorcycles         15.0      2.0        1.0  ...    2.0          5.0     3.0   \n",
      "Planes               4.0      1.0        2.0  ...    2.0          4.0     2.0   \n",
      "Ships                5.0      1.0        NaN  ...    2.0          3.0     NaN   \n",
      "Trains               4.0      1.0        NaN  ...    1.0          2.0     1.0   \n",
      "Trucks and Buses     8.0      2.0        NaN  ...    1.0          1.0     2.0   \n",
      "Vintage Cars        15.0      3.0        2.0  ...    5.0          9.0     4.0   \n",
      "\n",
      "country           Philippines  Singapore  Spain  Sweden  Switzerland    UK  \\\n",
      "productLine                                                                  \n",
      "Classic Cars              2.0        7.0   22.0     6.0          2.0  10.0   \n",
      "Motorcycles               2.0        1.0    6.0     1.0          NaN   1.0   \n",
      "Planes                    1.0        NaN    6.0     1.0          NaN   3.0   \n",
      "Ships                     NaN        1.0    8.0     2.0          NaN   5.0   \n",
      "Trains                    NaN        2.0    8.0     1.0          NaN   2.0   \n",
      "Trucks and Buses          NaN        4.0   11.0     2.0          NaN   1.0   \n",
      "Vintage Cars              1.0        4.0   22.0     4.0          NaN  10.0   \n",
      "\n",
      "country            USA  \n",
      "productLine             \n",
      "Classic Cars      71.0  \n",
      "Motorcycles       27.0  \n",
      "Planes            22.0  \n",
      "Ships             25.0  \n",
      "Trains            15.0  \n",
      "Trucks and Buses  27.0  \n",
      "Vintage Cars      67.0  \n",
      "\n",
      "[7 rows x 22 columns]\n"
     ]
    }
   ],
   "source": [
    "contingence_commandes = pd.read_sql_query(\n",
    "    \"\"\"\n",
    "    SELECT Products.productLine, Customers.country, COUNT(DISTINCT OrderDetails.orderNumber) AS numberOfOrders\n",
    "    FROM Products\n",
    "    LEFT JOIN OrderDetails ON Products.productCode = OrderDetails.productCode\n",
    "    LEFT JOIN Orders ON OrderDetails.orderNumber = Orders.orderNumber\n",
    "    LEFT JOIN Customers ON Orders.customerNumber = Customers.customerNumber\n",
    "    GROUP BY Products.productLine, Customers.country\n",
    "    \"\"\",\n",
    "    conn\n",
    ")\n",
    "contingence_commandes_pivot = contingence_commandes.pivot(index='productLine', columns='country', values='numberOfOrders')\n",
    "print(\"Table de contingence (nombre de commandes):\\n\", contingence_commandes_pivot)"
   ]
  },
  {
   "cell_type": "markdown",
   "id": "358e5b8a-e7ae-455c-ad9d-72e2264f3960",
   "metadata": {},
   "source": [
    "#### Objectif de la démarche : Identifier les tendances géographiques par ligne de produits. \n",
    "#### Explication de la démarche :\n",
    "#### - Jointure des tables : On relie les produits (`Products`) avec les détails de commande (`OrderDetails`). \n",
    "#### - Colonnes calculées : `AVG(OrderDetails.priceEach - Products.buyPrice)` calcule la marge moyenne de chaque produit. \n",
    "#### - Tri : Les produits sont triés par marge moyenne décroissante avec `ORDER BY avgMargin DESC`. \n",
    "#### - Limitation : On conserve uniquement les 10 premiers produits grâce à `LIMIT 10`. "
   ]
  },
  {
   "cell_type": "markdown",
   "id": "398d5bbf-19ba-4c52-9177-602032f94a04",
   "metadata": {},
   "source": [
    "## 7. On veut la même table croisant la ligne de produits et le pays du client, mais avec le montant total payé dans chaque cellule ;"
   ]
  },
  {
   "cell_type": "code",
   "execution_count": 11,
   "id": "c4c4b139-a2a3-43dc-b00c-c1156766a89e",
   "metadata": {},
   "outputs": [
    {
     "name": "stdout",
     "output_type": "stream",
     "text": [
      "Table de contingence (montant total payé):\n",
      " country           NaN   Australia     Austria    Belgium      Canada  \\\n",
      "productLine                                                            \n",
      "Classic Cars      NaN  7504795.97  1884419.42  166880.87   774924.01   \n",
      "Motorcycles       NaN  4112158.58   413377.90        NaN    74634.85   \n",
      "Planes            NaN  3619902.87   496053.48   33440.10   746348.50   \n",
      "Ships             NaN   157812.92   330702.32  699045.80   840149.72   \n",
      "Trains            NaN    59469.12         NaN  166561.24         NaN   \n",
      "Trucks and Buses  NaN  2824360.08   261319.50        NaN  1030187.22   \n",
      "Vintage Cars      NaN  6546906.20   705109.08  865607.04  1020778.08   \n",
      "\n",
      "country              Denmark     Finland      France     Germany  Hong Kong  \\\n",
      "productLine                                                                   \n",
      "Classic Cars      3678313.22  4219809.84  8802981.74  3414282.01        NaN   \n",
      "Motorcycles              NaN  1457098.02  6226561.02   300919.74   48784.36   \n",
      "Planes             238057.46  1300604.56  3952209.42   279951.36  585412.32   \n",
      "Ships             1647969.04   953093.42  2445325.96    69987.84        NaN   \n",
      "Trains             420815.38   227922.30   828812.08   170343.18        NaN   \n",
      "Trucks and Buses   201191.10  1186437.26  3476464.61   170343.18        NaN   \n",
      "Vintage Cars       814767.93   751232.66  5682080.96   565833.63  146353.08   \n",
      "\n",
      "country           ...       Japan  New Zealand      Norway  Philippines  \\\n",
      "productLine       ...                                                     \n",
      "Classic Cars      ...   747426.11   4774241.81  3585545.62   1222204.49   \n",
      "Motorcycles       ...   773714.07   2979051.42  1597676.29    658110.11   \n",
      "Planes            ...  1329583.78   1913684.59   903882.58    470078.65   \n",
      "Ships             ...   544610.90   1466164.71         NaN          NaN   \n",
      "Trains            ...   217844.36    351241.19   233198.38          NaN   \n",
      "Trucks and Buses  ...   326766.54    754258.98  1049392.71          NaN   \n",
      "Vintage Cars      ...   897665.40   4864723.78  1500428.14     94015.73   \n",
      "\n",
      "country            Singapore        Spain      Sweden  Switzerland  \\\n",
      "productLine                                                          \n",
      "Classic Cars      4634491.81  85229491.94  1814373.01   3649120.36   \n",
      "Motorcycles        172989.68  13620825.77   402777.99          NaN   \n",
      "Planes                   NaN  20173669.65   402777.99          NaN   \n",
      "Ships              691958.72  19212974.86  1225584.40          NaN   \n",
      "Trains             864948.40   9620979.23    75754.88          NaN   \n",
      "Trucks and Buses  3197741.75  24587700.91  1242834.83          NaN   \n",
      "Vintage Cars      1941227.28  39878490.66  1377094.16          NaN   \n",
      "\n",
      "country                   UK          USA  \n",
      "productLine                                \n",
      "Classic Cars      5018367.13  71139058.49  \n",
      "Motorcycles        694849.14  20122886.18  \n",
      "Planes            1078638.18   7345312.11  \n",
      "Ships             2335446.47  11469465.83  \n",
      "Trains             551664.27   7086838.20  \n",
      "Trucks and Buses   710436.00  31490873.72  \n",
      "Vintage Cars      4673162.78  47090713.86  \n",
      "\n",
      "[7 rows x 22 columns]\n"
     ]
    }
   ],
   "source": [
    "contingence_paiements = pd.read_sql_query(\n",
    "    \"\"\"\n",
    "    SELECT Products.productLine, Customers.country, SUM(Payments.amount) AS totalPaid\n",
    "    FROM Products\n",
    "    LEFT JOIN OrderDetails ON Products.productCode = OrderDetails.productCode\n",
    "    LEFT JOIN Orders ON OrderDetails.orderNumber = Orders.orderNumber\n",
    "    LEFT JOIN Customers ON Orders.customerNumber = Customers.customerNumber\n",
    "    LEFT JOIN Payments ON Customers.customerNumber = Payments.customerNumber\n",
    "    GROUP BY Products.productLine, Customers.country\n",
    "    \"\"\",\n",
    "    conn\n",
    ")\n",
    "contingence_paiements_pivot = contingence_paiements.pivot(index='productLine', columns='country', values='totalPaid')\n",
    "print(\"Table de contingence (montant total payé):\\n\", contingence_paiements_pivot)"
   ]
  },
  {
   "cell_type": "markdown",
   "id": "105197d4-e19e-4232-96da-3f0d059b585d",
   "metadata": {},
   "source": [
    "#### Objectif de la démarche : Identifier les produits les plus rentables.\n",
    "#### Explication de la démarche :\n",
    "#### Jointure des tables : On relie les produits (`Products`), les commandes (`Orders`), et les clients (`Customers`). \n",
    "#### - Filtrage : On utilise la condition `WHERE OrderDetails.priceEach < Products.buyPrice` pour détecter les ventes à perte. \n",
    "#### - Colonnes sélectionnées : \n",
    "#### - `productCode` et `productName` pour identifier le produit. \n",
    "#### - `customerNumber` et `customerName` pour identifier le client associé à la vente. \n",
    "#### - `priceEach` et `buyPrice` pour comparer le prix de vente et le coût. "
   ]
  },
  {
   "cell_type": "markdown",
   "id": "7a72ab10-02a5-4c02-899a-aa0a6a577afe",
   "metadata": {},
   "source": [
    "## 8. Donner les 10 produits pour lesquels la marge moyenne est la plus importante (cf buyPrice et priceEach) ;"
   ]
  },
  {
   "cell_type": "code",
   "execution_count": 12,
   "id": "dded1214-3523-46bf-8ff3-3b015880901a",
   "metadata": {},
   "outputs": [
    {
     "name": "stdout",
     "output_type": "stream",
     "text": [
      "Top 10 produits avec marge moyenne la plus importante:\n",
      "   productCode                           productName  avgMargin\n",
      "0    S10_1949              1952 Alpine Renault 1300  99.006429\n",
      "1    S10_4698  2003 Harley-Davidson Eagle Drag Bike  95.235000\n",
      "2    S18_3232           1992 Ferrari 360 Spider red  83.334906\n",
      "3    S12_2823                      2002 Suzuki XREO  83.201429\n",
      "4    S18_2795                1928 Mercedes-Benz SSK  82.696786\n",
      "5    S12_1108                     2001 Ferrari Enzo  81.043704\n",
      "6    S12_3891                      1969 Ford Falcon  77.335926\n",
      "7    S18_3685        1948 Porsche Type 356 Roadster  72.636800\n",
      "8    S18_2870          1999 Indy 500 Monte Carlo SS  71.794400\n",
      "9    S18_1749              1917 Grand Touring Sedan  70.432800\n"
     ]
    }
   ],
   "source": [
    "marges_produits = pd.read_sql_query(\n",
    "    \"\"\"\n",
    "    SELECT Products.productCode, Products.productName, AVG(OrderDetails.priceEach - Products.buyPrice) AS avgMargin\n",
    "    FROM Products\n",
    "    LEFT JOIN OrderDetails ON Products.productCode = OrderDetails.productCode\n",
    "    GROUP BY Products.productCode\n",
    "    ORDER BY avgMargin DESC\n",
    "    LIMIT 10\n",
    "    \"\"\",\n",
    "    conn\n",
    ")\n",
    "print(\"Top 10 produits avec marge moyenne la plus importante:\\n\", marges_produits)"
   ]
  },
  {
   "cell_type": "code",
   "execution_count": null,
   "id": "1d91217b-7913-425b-bd04-580f7c08188b",
   "metadata": {},
   "outputs": [],
   "source": []
  },
  {
   "cell_type": "markdown",
   "id": "8a662c1a-c3b9-4542-8878-a2c685f98426",
   "metadata": {},
   "source": [
    "## 9. Lister les produits (avec le nom et le code du client) qui ont été vendus à perte : Si un produit a été dans cette situation plusieurs fois, il doit apparaître plusieurs fois, Une vente à perte arrive quand le prix de vente est inférieur au prix d’achat ;"
   ]
  },
  {
   "cell_type": "code",
   "execution_count": 13,
   "id": "e30fdc07-b68b-4a85-b909-8b08c7baeee9",
   "metadata": {},
   "outputs": [
    {
     "name": "stdout",
     "output_type": "stream",
     "text": [
      "Produits vendus à perte:\n",
      "    productCode                          productName  customerNumber  \\\n",
      "0     S10_4962               1962 LanciaA Delta 16V             363   \n",
      "1     S18_2957                   1934 Ford V8 Coupe             363   \n",
      "2     S18_3136  18th Century Vintage Horse Carriage             363   \n",
      "3     S12_3148                   1969 Corvair Monza             181   \n",
      "4     S18_2319               1964 Mercedec Tour Bus             181   \n",
      "..         ...                                  ...             ...   \n",
      "74    S10_4962               1962 LanciaA Delta 16V             276   \n",
      "75    S12_1666                       1958 Setra Bus             276   \n",
      "76    S18_2949          1913 Ford Model T Speedster             276   \n",
      "77    S18_2238       1998 Chrysler Plymouth Prowler             323   \n",
      "78    S12_1108                    2001 Ferrari Enzo             250   \n",
      "\n",
      "                    customerName  priceEach  buyPrice  \n",
      "0   Online Diecast Creations Co.      61.99    103.42  \n",
      "1   Online Diecast Creations Co.      29.87     34.35  \n",
      "2   Online Diecast Creations Co.      47.04     60.74  \n",
      "3                Vitachrome Inc.      54.33     89.14  \n",
      "4                Vitachrome Inc.      37.48     74.86  \n",
      "..                           ...        ...       ...  \n",
      "74       Anna's Decorations, Ltd      46.90    103.42  \n",
      "75       Anna's Decorations, Ltd      63.20     77.90  \n",
      "76       Anna's Decorations, Ltd      45.25     60.78  \n",
      "77    Down Under Souveniers, Inc      69.81    101.51  \n",
      "78               Lyon Souveniers      69.12     95.59  \n",
      "\n",
      "[79 rows x 6 columns]\n"
     ]
    }
   ],
   "source": [
    "produits_perte = pd.read_sql_query(\n",
    "    \"\"\"\n",
    "    SELECT Products.productCode, Products.productName, Orders.customerNumber, Customers.customerName,\n",
    "           OrderDetails.priceEach, Products.buyPrice\n",
    "    FROM Products\n",
    "    LEFT JOIN OrderDetails ON Products.productCode = OrderDetails.productCode\n",
    "    LEFT JOIN Orders ON OrderDetails.orderNumber = Orders.orderNumber\n",
    "    LEFT JOIN Customers ON Orders.customerNumber = Customers.customerNumber\n",
    "    WHERE OrderDetails.priceEach < Products.buyPrice\n",
    "    \"\"\",\n",
    "    conn\n",
    ")\n",
    "print(\"Produits vendus à perte:\\n\", produits_perte)"
   ]
  },
  {
   "cell_type": "code",
   "execution_count": 14,
   "id": "d4bbef38-fc14-48e2-9857-a024da94bc6f",
   "metadata": {},
   "outputs": [],
   "source": [
    "conn.close()"
   ]
  }
 ],
 "metadata": {
  "kernelspec": {
   "display_name": "Python 3 (ipykernel)",
   "language": "python",
   "name": "python3"
  },
  "language_info": {
   "codemirror_mode": {
    "name": "ipython",
    "version": 3
   },
   "file_extension": ".py",
   "mimetype": "text/x-python",
   "name": "python",
   "nbconvert_exporter": "python",
   "pygments_lexer": "ipython3",
   "version": "3.12.1"
  }
 },
 "nbformat": 4,
 "nbformat_minor": 5
}
